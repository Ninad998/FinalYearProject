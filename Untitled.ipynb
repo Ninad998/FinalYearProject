{
 "cells": [
  {
   "cell_type": "code",
   "execution_count": 1,
   "metadata": {
    "collapsed": false,
    "deletable": true,
    "editable": true
   },
   "outputs": [],
   "source": [
    "#!/usr/bin/python\n",
    "# -*- coding: utf-8 -*-\n",
    "import os\n",
    "os.environ.setdefault(\"DJANGO_SETTINGS_MODULE\", \"FinalYearProject.settings\")\n",
    "\n",
    "import django\n",
    "django.setup()"
   ]
  },
  {
   "cell_type": "code",
   "execution_count": 2,
   "metadata": {
    "collapsed": false,
    "deletable": true,
    "editable": true
   },
   "outputs": [],
   "source": [
    "\n",
    "from deep_stylo.models import Result\n",
    "\n",
    "def getDataFromDB():\n",
    "    results = Result.objects.filter(status__lt = 1).order_by('upload_date')\n",
    "    return results\n",
    "\n",
    "def markRunning(result):\n",
    "    result.running()\n",
    "    \n",
    "def markCompleted(result, predicted_author, train_accuracy, validation_a.ccuracy, test_accuracy, test_binary):\n",
    "    result.complete(predicted_author, train_accuracy, validation_accuracy, test_accuracy, test_binary)"
   ]
  },
  {
   "cell_type": "code",
   "execution_count": 3,
   "metadata": {
    "collapsed": false,
    "deletable": true,
    "editable": true
   },
   "outputs": [
    {
     "name": "stdout",
     "output_type": "stream",
     "text": [
      "Doc_id 2 AuthorList (3, 4, 5)\n",
      "Doc_id 3 AuthorList (4, 5)\n",
      "Doc_id 4 AuthorList (5, 6, 7)\n",
      "Doc_id 4 AuthorList 4\n",
      "Doc_id 4 AuthorList 5\n",
      "Doc_id 4 AuthorList (5, 6)\n",
      "Doc_id 5 AuthorList (5, 6)\n"
     ]
    }
   ],
   "source": [
    "while (True):\n",
    "    results = getDataFromDB()\n",
    "\n",
    "    if results.exists():\n",
    "        for result in results:\n",
    "            doc_id = int(result.doc_id)\n",
    "            import ast\n",
    "            authorList = ast.literal_eval(result.authorList)\n",
    "\n",
    "            markRunning(result)\n",
    "\n",
    "            import PythonScripts.StyloNeuralLSTM as Stylo\n",
    "            (labels_index, history, train_acc, val_acc, samples) = Stylo.getResults(\n",
    "                    doc_id = doc_id, authorList = authorList[:], glove = '../glove/' )\n",
    "\n",
    "            (predYList, predY, testY) = Stylo.getTestResults(\n",
    "                doc_id = doc_id, authorList = authorList[:], glove = '../glove/' )\n",
    "\n",
    "            loc = testY\n",
    "\n",
    "            test_accuracy = predY[loc]\n",
    "\n",
    "            test_binary = 0.0\n",
    "\n",
    "            if(predY.tolist().index(max(predY)) == testY):\n",
    "                test_binary = 1.0\n",
    "\n",
    "            del Stylo\n",
    "\n",
    "            markCompleted(result, predicted_author, train_accuracy, validation_accuracy,\n",
    "                          test_accuracy, test_binary)\n",
    "    else:\n",
    "        import time\n",
    "        time.sleep(600)"
   ]
  }
 ],
 "metadata": {
  "kernelspec": {
   "display_name": "Python 2",
   "language": "python",
   "name": "python2"
  },
  "language_info": {
   "codemirror_mode": {
    "name": "ipython",
    "version": 2
   },
   "file_extension": ".py",
   "mimetype": "text/x-python",
   "name": "python",
   "nbconvert_exporter": "python",
   "pygments_lexer": "ipython2",
   "version": "2.7.13"
  }
 },
 "nbformat": 4,
 "nbformat_minor": 0
}
