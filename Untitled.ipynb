{
 "cells": [
  {
   "cell_type": "code",
   "execution_count": null,
   "metadata": {
    "collapsed": false,
    "deletable": true,
    "editable": true
   },
   "outputs": [],
   "source": [
    "#!/usr/bin/python\n",
    "# -*- coding: utf-8 -*-\n",
    "import os\n",
    "os.environ.setdefault(\"DJANGO_SETTINGS_MODULE\", \"FinalYearProject.settings\")\n",
    "\n",
    "import django\n",
    "django.setup()"
   ]
  },
  {
   "cell_type": "code",
   "execution_count": null,
   "metadata": {
    "collapsed": false,
    "deletable": true,
    "editable": true
   },
   "outputs": [],
   "source": [
    "\n",
    "from deep_stylo.models import Result\n",
    "\n",
    "def getDataFromDB():\n",
    "    results = Result.objects.filter(status__lt = 1).order_by('upload_date')\n",
    "    return results\n",
    "\n",
    "def markRunning(result):\n",
    "    result.running()\n",
    "    \n",
    "def markCompleted(result, predicted_author, train_accuracy, validation_accuracy, test_accuracy, test_binary):\n",
    "    result.complete(predicted_author, train_accuracy, validation_accuracy, test_accuracy, test_binary)"
   ]
  },
  {
   "cell_type": "code",
   "execution_count": null,
   "metadata": {
    "collapsed": false,
    "deletable": true,
    "editable": true,
    "scrolled": true
   },
   "outputs": [],
   "source": [
    "while (True):\n",
    "    results = getDataFromDB()\n",
    "    \n",
    "    if results.exists():\n",
    "        result = results.first()\n",
    "        \n",
    "        doc_id = int(result.doc_id)\n",
    "        \n",
    "        import ast\n",
    "        authorList = ast.literal_eval(result.authorList)\n",
    "        \n",
    "        markRunning(result)\n",
    "        \n",
    "        import PythonScripts.StyloNeuralLSTM as Stylo\n",
    "        (labels_index, history, train_acc, val_acc, samples) = Stylo.getResults(\n",
    "                doc_id = doc_id, authorList = authorList[:], glove = '../glove/' )\n",
    "        \n",
    "        (predYList, predY, testY) = Stylo.getTestResults(\n",
    "            doc_id = doc_id, authorList = authorList[:], glove = '../glove/' )\n",
    "        \n",
    "        loc = testY\n",
    "        \n",
    "        test_accuracy = predY[loc]\n",
    "        \n",
    "        test_binary = 0.0\n",
    "        \n",
    "        if(predY.tolist().index(max(predY)) == testY):\n",
    "            test_binary = 1.0\n",
    "            \n",
    "        del Stylo\n",
    "        \n",
    "        predicted_author = labels_index[predY.tolist().index(max(predY))]\n",
    "        \n",
    "        markCompleted(result, predicted_author, train_accuracy, validation_accuracy,\n",
    "                      test_accuracy, test_binary)\n",
    "        \n",
    "    else:\n",
    "        import time\n",
    "        time.sleep(600)"
   ]
  }
 ],
 "metadata": {
  "kernelspec": {
   "display_name": "Python 2",
   "language": "python",
   "name": "python2"
  },
  "language_info": {
   "codemirror_mode": {
    "name": "ipython",
    "version": 2
   },
   "file_extension": ".py",
   "mimetype": "text/x-python",
   "name": "python",
   "nbconvert_exporter": "python",
   "pygments_lexer": "ipython2",
   "version": "2.7.13"
  }
 },
 "nbformat": 4,
 "nbformat_minor": 0
}
