{
 "cells": [
  {
   "cell_type": "code",
   "execution_count": 1,
   "metadata": {
    "collapsed": false
   },
   "outputs": [
    {
     "name": "stdout",
     "output_type": "stream",
     "text": [
      "Execution completed\n"
     ]
    }
   ],
   "source": [
    "#!/usr/bin/python\n",
    "# -*- coding: utf-8 -*-\n",
    "from __future__ import print_function\n",
    "import nltk.tokenize\n",
    "import MySQLdb\n",
    "import pandas as pd\n",
    "import sys, re\n",
    "from models import Result\n",
    "\n",
    "def getDataFromDB(port):\n",
    "    conn = None\n",
    "    output = []\n",
    "    df = pd.DataFrame()\n",
    "\n",
    "    try:\n",
    "        conn = MySQLdb.connect(host=\"127.0.0.1\", user=\"ninadt\", passwd=\"ninadt\", db=\"localdb\", port = port)\n",
    "\n",
    "        cursor = conn.cursor()\n",
    "\n",
    "        query = \"SELECT id, doc_id, authorList FROM deep_stylo_result WHERE status < 1.0\"\n",
    "        query += \" order by upload_date ASC;\"\n",
    "\n",
    "        cursor.execute(query)\n",
    "\n",
    "        print(\"Execution completed\")\n",
    "        rows = cursor.fetchall()\n",
    "\n",
    "        if (len(rows) > 0):\n",
    "            for row in rows:\n",
    "                output.append([row[0], row[1], row[2]])\n",
    "        else:\n",
    "            return (False)\n",
    "\n",
    "        df = pd.DataFrame(output, columns=[\"id\", \"doc_id\", \"authorList\"])\n",
    "        print(df.dtypes)\n",
    "        return (df)\n",
    "\n",
    "    except MySQLdb.Error as e:\n",
    "        if conn:\n",
    "            conn.rollback()\n",
    "        print('Error %s' % e)\n",
    "        sys.exit(1)\n",
    "\n",
    "    finally:\n",
    "        if conn is not None:\n",
    "            conn.close()"
   ]
  },
  {
   "cell_type": "code",
   "execution_count": 2,
   "metadata": {
    "collapsed": false
   },
   "outputs": [
    {
     "name": "stdout",
     "output_type": "stream",
     "text": [
      "id             int64\n",
      "doc_id         int64\n",
      "authorList    object\n",
      "dtype: object\n"
     ]
    }
   ],
   "source": [
    "print(df.dtypes)"
   ]
  }
 ],
 "metadata": {
  "kernelspec": {
   "display_name": "Python 2",
   "language": "python",
   "name": "python2"
  },
  "language_info": {
   "codemirror_mode": {
    "name": "ipython",
    "version": 2
   },
   "file_extension": ".py",
   "mimetype": "text/x-python",
   "name": "python",
   "nbconvert_exporter": "python",
   "pygments_lexer": "ipython2",
   "version": "2.7.13"
  }
 },
 "nbformat": 4,
 "nbformat_minor": 2
}
